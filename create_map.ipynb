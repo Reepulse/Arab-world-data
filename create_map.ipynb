{
  "nbformat": 4,
  "nbformat_minor": 0,
  "metadata": {
    "kernelspec": {
      "display_name": "Python 3",
      "language": "python",
      "name": "python3"
    },
    "language_info": {
      "codemirror_mode": {
        "name": "ipython",
        "version": 3
      },
      "file_extension": ".py",
      "mimetype": "text/x-python",
      "name": "python",
      "nbconvert_exporter": "python",
      "pygments_lexer": "ipython3",
      "version": "3.7.3"
    },
    "colab": {
      "name": "05c_Folium_Notebook.ipynb",
      "provenance": []
    }
  },
  "cells": [
    {
      "cell_type": "markdown",
      "metadata": {
        "id": "sOPgS1XFg7Ji",
        "colab_type": "text"
      },
      "source": [
        "Data Source: https://www.kaggle.com/worldbank/world-development-indicators"
      ]
    },
    {
      "cell_type": "markdown",
      "metadata": {
        "id": "Hs7SVvSng7Jm",
        "colab_type": "text"
      },
      "source": [
        "# Creating geographic maps from Data\n"
      ]
    },
    {
      "cell_type": "code",
      "metadata": {
        "id": "CE9jsQHyg7Jp",
        "colab_type": "code",
        "colab": {
          "base_uri": "https://localhost:8080/",
          "height": 202
        },
        "outputId": "8dd4f31c-7106-4d51-8b44-cba60861ca17"
      },
      "source": [
        "!pip install folium"
      ],
      "execution_count": 5,
      "outputs": [
        {
          "output_type": "stream",
          "text": [
            "Requirement already satisfied: folium in /usr/local/lib/python3.6/dist-packages (0.8.3)\n",
            "Requirement already satisfied: branca>=0.3.0 in /usr/local/lib/python3.6/dist-packages (from folium) (0.3.1)\n",
            "Requirement already satisfied: six in /usr/local/lib/python3.6/dist-packages (from folium) (1.12.0)\n",
            "Requirement already satisfied: requests in /usr/local/lib/python3.6/dist-packages (from folium) (2.21.0)\n",
            "Requirement already satisfied: jinja2 in /usr/local/lib/python3.6/dist-packages (from folium) (2.10.3)\n",
            "Requirement already satisfied: numpy in /usr/local/lib/python3.6/dist-packages (from folium) (1.17.5)\n",
            "Requirement already satisfied: idna<2.9,>=2.5 in /usr/local/lib/python3.6/dist-packages (from requests->folium) (2.8)\n",
            "Requirement already satisfied: chardet<3.1.0,>=3.0.2 in /usr/local/lib/python3.6/dist-packages (from requests->folium) (3.0.4)\n",
            "Requirement already satisfied: urllib3<1.25,>=1.21.1 in /usr/local/lib/python3.6/dist-packages (from requests->folium) (1.24.3)\n",
            "Requirement already satisfied: certifi>=2017.4.17 in /usr/local/lib/python3.6/dist-packages (from requests->folium) (2019.11.28)\n",
            "Requirement already satisfied: MarkupSafe>=0.23 in /usr/local/lib/python3.6/dist-packages (from jinja2->folium) (1.1.1)\n"
          ],
          "name": "stdout"
        }
      ]
    },
    {
      "cell_type": "code",
      "metadata": {
        "id": "23jbt9u-g7Ju",
        "colab_type": "code",
        "colab": {}
      },
      "source": [
        "import folium\n",
        "import pandas as pd"
      ],
      "execution_count": 0,
      "outputs": []
    },
    {
      "cell_type": "markdown",
      "metadata": {
        "id": "UmvixZwpg7Jy",
        "colab_type": "text"
      },
      "source": [
        "### Country coordinates for plotting\n",
        "\n",
        "https://raw.githubusercontent.com/python-visualization/folium/588670cf1e9518f159b0eee02f75185301327342/examples/data/world-countries.json"
      ]
    },
    {
      "cell_type": "code",
      "metadata": {
        "id": "4mQh70_8g7Jz",
        "colab_type": "code",
        "colab": {}
      },
      "source": [
        "country_geo = 'world-countries.json'"
      ],
      "execution_count": 0,
      "outputs": []
    },
    {
      "cell_type": "code",
      "metadata": {
        "id": "sr_2Rxtig7J3",
        "colab_type": "code",
        "colab": {
          "base_uri": "https://localhost:8080/",
          "height": 34
        },
        "outputId": "fd941998-0a7f-48eb-80fd-435fcf54b430"
      },
      "source": [
        "# Read in the World Development Indicators Database\n",
        "data = pd.read_csv('Indicators.csv')\n",
        "data.shape"
      ],
      "execution_count": 9,
      "outputs": [
        {
          "output_type": "execute_result",
          "data": {
            "text/plain": [
              "(5656458, 6)"
            ]
          },
          "metadata": {
            "tags": []
          },
          "execution_count": 9
        }
      ]
    },
    {
      "cell_type": "code",
      "metadata": {
        "id": "UK4n05zpg7J7",
        "colab_type": "code",
        "colab": {
          "base_uri": "https://localhost:8080/",
          "height": 195
        },
        "outputId": "0115f8b6-f378-429d-ffb6-517e309cbf2c"
      },
      "source": [
        "data.head()"
      ],
      "execution_count": 10,
      "outputs": [
        {
          "output_type": "execute_result",
          "data": {
            "text/html": [
              "<div>\n",
              "<style scoped>\n",
              "    .dataframe tbody tr th:only-of-type {\n",
              "        vertical-align: middle;\n",
              "    }\n",
              "\n",
              "    .dataframe tbody tr th {\n",
              "        vertical-align: top;\n",
              "    }\n",
              "\n",
              "    .dataframe thead th {\n",
              "        text-align: right;\n",
              "    }\n",
              "</style>\n",
              "<table border=\"1\" class=\"dataframe\">\n",
              "  <thead>\n",
              "    <tr style=\"text-align: right;\">\n",
              "      <th></th>\n",
              "      <th>CountryName</th>\n",
              "      <th>CountryCode</th>\n",
              "      <th>IndicatorName</th>\n",
              "      <th>IndicatorCode</th>\n",
              "      <th>Year</th>\n",
              "      <th>Value</th>\n",
              "    </tr>\n",
              "  </thead>\n",
              "  <tbody>\n",
              "    <tr>\n",
              "      <th>0</th>\n",
              "      <td>Arab World</td>\n",
              "      <td>ARB</td>\n",
              "      <td>Adolescent fertility rate (births per 1,000 wo...</td>\n",
              "      <td>SP.ADO.TFRT</td>\n",
              "      <td>1960</td>\n",
              "      <td>1.335609e+02</td>\n",
              "    </tr>\n",
              "    <tr>\n",
              "      <th>1</th>\n",
              "      <td>Arab World</td>\n",
              "      <td>ARB</td>\n",
              "      <td>Age dependency ratio (% of working-age populat...</td>\n",
              "      <td>SP.POP.DPND</td>\n",
              "      <td>1960</td>\n",
              "      <td>8.779760e+01</td>\n",
              "    </tr>\n",
              "    <tr>\n",
              "      <th>2</th>\n",
              "      <td>Arab World</td>\n",
              "      <td>ARB</td>\n",
              "      <td>Age dependency ratio, old (% of working-age po...</td>\n",
              "      <td>SP.POP.DPND.OL</td>\n",
              "      <td>1960</td>\n",
              "      <td>6.634579e+00</td>\n",
              "    </tr>\n",
              "    <tr>\n",
              "      <th>3</th>\n",
              "      <td>Arab World</td>\n",
              "      <td>ARB</td>\n",
              "      <td>Age dependency ratio, young (% of working-age ...</td>\n",
              "      <td>SP.POP.DPND.YG</td>\n",
              "      <td>1960</td>\n",
              "      <td>8.102333e+01</td>\n",
              "    </tr>\n",
              "    <tr>\n",
              "      <th>4</th>\n",
              "      <td>Arab World</td>\n",
              "      <td>ARB</td>\n",
              "      <td>Arms exports (SIPRI trend indicator values)</td>\n",
              "      <td>MS.MIL.XPRT.KD</td>\n",
              "      <td>1960</td>\n",
              "      <td>3.000000e+06</td>\n",
              "    </tr>\n",
              "  </tbody>\n",
              "</table>\n",
              "</div>"
            ],
            "text/plain": [
              "  CountryName CountryCode  ...  Year         Value\n",
              "0  Arab World         ARB  ...  1960  1.335609e+02\n",
              "1  Arab World         ARB  ...  1960  8.779760e+01\n",
              "2  Arab World         ARB  ...  1960  6.634579e+00\n",
              "3  Arab World         ARB  ...  1960  8.102333e+01\n",
              "4  Arab World         ARB  ...  1960  3.000000e+06\n",
              "\n",
              "[5 rows x 6 columns]"
            ]
          },
          "metadata": {
            "tags": []
          },
          "execution_count": 10
        }
      ]
    },
    {
      "cell_type": "code",
      "metadata": {
        "id": "1KEAgbVVg7KB",
        "colab_type": "code",
        "colab": {
          "base_uri": "https://localhost:8080/",
          "height": 195
        },
        "outputId": "84a5eb53-5977-4ca8-88b7-5da0f4576d44"
      },
      "source": [
        "# select CO2 emissions for all countries in 2011\n",
        "hist_indicator = 'CO2 emissions \\(metric'\n",
        "hist_year = 2011\n",
        "\n",
        "mask1 = data['IndicatorName'].str.contains(hist_indicator) \n",
        "mask2 = data['Year'].isin([hist_year])\n",
        "\n",
        "stage = data[mask1 & mask2]\n",
        "stage.head()"
      ],
      "execution_count": 11,
      "outputs": [
        {
          "output_type": "execute_result",
          "data": {
            "text/html": [
              "<div>\n",
              "<style scoped>\n",
              "    .dataframe tbody tr th:only-of-type {\n",
              "        vertical-align: middle;\n",
              "    }\n",
              "\n",
              "    .dataframe tbody tr th {\n",
              "        vertical-align: top;\n",
              "    }\n",
              "\n",
              "    .dataframe thead th {\n",
              "        text-align: right;\n",
              "    }\n",
              "</style>\n",
              "<table border=\"1\" class=\"dataframe\">\n",
              "  <thead>\n",
              "    <tr style=\"text-align: right;\">\n",
              "      <th></th>\n",
              "      <th>CountryName</th>\n",
              "      <th>CountryCode</th>\n",
              "      <th>IndicatorName</th>\n",
              "      <th>IndicatorCode</th>\n",
              "      <th>Year</th>\n",
              "      <th>Value</th>\n",
              "    </tr>\n",
              "  </thead>\n",
              "  <tbody>\n",
              "    <tr>\n",
              "      <th>5026275</th>\n",
              "      <td>Arab World</td>\n",
              "      <td>ARB</td>\n",
              "      <td>CO2 emissions (metric tons per capita)</td>\n",
              "      <td>EN.ATM.CO2E.PC</td>\n",
              "      <td>2011</td>\n",
              "      <td>4.724500</td>\n",
              "    </tr>\n",
              "    <tr>\n",
              "      <th>5026788</th>\n",
              "      <td>Caribbean small states</td>\n",
              "      <td>CSS</td>\n",
              "      <td>CO2 emissions (metric tons per capita)</td>\n",
              "      <td>EN.ATM.CO2E.PC</td>\n",
              "      <td>2011</td>\n",
              "      <td>9.692960</td>\n",
              "    </tr>\n",
              "    <tr>\n",
              "      <th>5027295</th>\n",
              "      <td>Central Europe and the Baltics</td>\n",
              "      <td>CEB</td>\n",
              "      <td>CO2 emissions (metric tons per capita)</td>\n",
              "      <td>EN.ATM.CO2E.PC</td>\n",
              "      <td>2011</td>\n",
              "      <td>6.911131</td>\n",
              "    </tr>\n",
              "    <tr>\n",
              "      <th>5027870</th>\n",
              "      <td>East Asia &amp; Pacific (all income levels)</td>\n",
              "      <td>EAS</td>\n",
              "      <td>CO2 emissions (metric tons per capita)</td>\n",
              "      <td>EN.ATM.CO2E.PC</td>\n",
              "      <td>2011</td>\n",
              "      <td>5.859548</td>\n",
              "    </tr>\n",
              "    <tr>\n",
              "      <th>5028456</th>\n",
              "      <td>East Asia &amp; Pacific (developing only)</td>\n",
              "      <td>EAP</td>\n",
              "      <td>CO2 emissions (metric tons per capita)</td>\n",
              "      <td>EN.ATM.CO2E.PC</td>\n",
              "      <td>2011</td>\n",
              "      <td>5.302499</td>\n",
              "    </tr>\n",
              "  </tbody>\n",
              "</table>\n",
              "</div>"
            ],
            "text/plain": [
              "                                     CountryName CountryCode  ...  Year     Value\n",
              "5026275                               Arab World         ARB  ...  2011  4.724500\n",
              "5026788                   Caribbean small states         CSS  ...  2011  9.692960\n",
              "5027295           Central Europe and the Baltics         CEB  ...  2011  6.911131\n",
              "5027870  East Asia & Pacific (all income levels)         EAS  ...  2011  5.859548\n",
              "5028456    East Asia & Pacific (developing only)         EAP  ...  2011  5.302499\n",
              "\n",
              "[5 rows x 6 columns]"
            ]
          },
          "metadata": {
            "tags": []
          },
          "execution_count": 11
        }
      ]
    },
    {
      "cell_type": "code",
      "metadata": {
        "id": "jbxOCBxEg7KG",
        "colab_type": "code",
        "colab": {
          "base_uri": "https://localhost:8080/",
          "height": 195
        },
        "outputId": "6c6f0ce5-ef47-4839-8f20-906b850fd8e8"
      },
      "source": [
        "plot_data = stage[['CountryCode','Value']]\n",
        "plot_data.head()"
      ],
      "execution_count": 12,
      "outputs": [
        {
          "output_type": "execute_result",
          "data": {
            "text/html": [
              "<div>\n",
              "<style scoped>\n",
              "    .dataframe tbody tr th:only-of-type {\n",
              "        vertical-align: middle;\n",
              "    }\n",
              "\n",
              "    .dataframe tbody tr th {\n",
              "        vertical-align: top;\n",
              "    }\n",
              "\n",
              "    .dataframe thead th {\n",
              "        text-align: right;\n",
              "    }\n",
              "</style>\n",
              "<table border=\"1\" class=\"dataframe\">\n",
              "  <thead>\n",
              "    <tr style=\"text-align: right;\">\n",
              "      <th></th>\n",
              "      <th>CountryCode</th>\n",
              "      <th>Value</th>\n",
              "    </tr>\n",
              "  </thead>\n",
              "  <tbody>\n",
              "    <tr>\n",
              "      <th>5026275</th>\n",
              "      <td>ARB</td>\n",
              "      <td>4.724500</td>\n",
              "    </tr>\n",
              "    <tr>\n",
              "      <th>5026788</th>\n",
              "      <td>CSS</td>\n",
              "      <td>9.692960</td>\n",
              "    </tr>\n",
              "    <tr>\n",
              "      <th>5027295</th>\n",
              "      <td>CEB</td>\n",
              "      <td>6.911131</td>\n",
              "    </tr>\n",
              "    <tr>\n",
              "      <th>5027870</th>\n",
              "      <td>EAS</td>\n",
              "      <td>5.859548</td>\n",
              "    </tr>\n",
              "    <tr>\n",
              "      <th>5028456</th>\n",
              "      <td>EAP</td>\n",
              "      <td>5.302499</td>\n",
              "    </tr>\n",
              "  </tbody>\n",
              "</table>\n",
              "</div>"
            ],
            "text/plain": [
              "        CountryCode     Value\n",
              "5026275         ARB  4.724500\n",
              "5026788         CSS  9.692960\n",
              "5027295         CEB  6.911131\n",
              "5027870         EAS  5.859548\n",
              "5028456         EAP  5.302499"
            ]
          },
          "metadata": {
            "tags": []
          },
          "execution_count": 12
        }
      ]
    },
    {
      "cell_type": "code",
      "metadata": {
        "id": "f2wrBAHMg7KJ",
        "colab_type": "code",
        "colab": {}
      },
      "source": [
        "# label for the legend\n",
        "hist_indicator = stage.iloc[0]['IndicatorName']"
      ],
      "execution_count": 0,
      "outputs": []
    },
    {
      "cell_type": "markdown",
      "metadata": {
        "id": "CVdHIZ99g7KN",
        "colab_type": "text"
      },
      "source": [
        "## Visualize CO2 emissions per capita using Folium\n",
        "\n",
        "Folium provides interactive maps with the ability to create sophisticated overlays for data visualization"
      ]
    },
    {
      "cell_type": "code",
      "metadata": {
        "id": "3ZBVO2Fog7KO",
        "colab_type": "code",
        "colab": {}
      },
      "source": [
        "# Setup a folium map at a high-level zoom @Alok - what is the 100,0, doesn't seem like lat long\n",
        "map = folium.Map(location=[100, 0], zoom_start=1.5)"
      ],
      "execution_count": 0,
      "outputs": []
    },
    {
      "cell_type": "code",
      "metadata": {
        "id": "fXo9hlCpg7KR",
        "colab_type": "code",
        "colab": {
          "base_uri": "https://localhost:8080/",
          "height": 34
        },
        "outputId": "c446d3ac-3a21-4210-e0f2-9ae60699f2da"
      },
      "source": [
        "# choropleth maps bind Pandas Data Frames and json geometries.  This allows us to quickly visualize data combinations\n",
        "folium.Choropleth(geo_data=country_geo, data=plot_data,\n",
        "             columns=['CountryCode', 'Value'],\n",
        "             key_on='feature.id',\n",
        "             fill_color='YlGnBu', fill_opacity=0.7, line_opacity=0.2,\n",
        "             legend_name=hist_indicator).add_to(map)"
      ],
      "execution_count": 19,
      "outputs": [
        {
          "output_type": "execute_result",
          "data": {
            "text/plain": [
              "<folium.features.Choropleth at 0x7f21dd2b1d30>"
            ]
          },
          "metadata": {
            "tags": []
          },
          "execution_count": 19
        }
      ]
    },
    {
      "cell_type": "code",
      "metadata": {
        "id": "Mpa96jRag7KU",
        "colab_type": "code",
        "colab": {}
      },
      "source": [
        "# Create Folium plot\n",
        "map.save('plot_data.html')"
      ],
      "execution_count": 0,
      "outputs": []
    },
    {
      "cell_type": "markdown",
      "metadata": {
        "id": "IyB7nQE8z3tM",
        "colab_type": "text"
      },
      "source": [
        "### Open plot_data.html in browser to view map"
      ]
    }
  ]
}